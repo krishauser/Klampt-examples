{
 "cells": [
  {
   "cell_type": "markdown",
   "metadata": {},
   "source": [
    "# Klampt Recipes\n",
    "\n",
    "Note: some of these require Klampt version 0.10.0 or later."
   ]
  },
  {
   "cell_type": "code",
   "execution_count": null,
   "metadata": {},
   "outputs": [],
   "source": [
    "# Some values.  Change these around if you would like to test different files.\n",
    "\n",
    "WORLD_FILE = '../data/athlete_plane.xml'\n",
    "WORLD_FILE_MANIPULATOR = '../data/tx90cuptable.xml'\n",
    "TRIMESH_FILE = '../data/objects/apc/kiva_pod/meshes/pod_lowres.stl'\n",
    "POINT_CLOUD_FILE = '../data/objects/apc/genuine_joe_stir_sticks.pcd'\n",
    "RGB_FILE = '../data/terrains/sunrgbdv2_data/sunrgbdv2_rgb.jpg'\n",
    "DEPTH_FILE = '../data/terrains/sunrgbdv2_data/sunrgbdv2_depth.png'\n",
    "EXTRINSICS_FILE = '../data/terrains/sunrgbdv2_data/sunrgbdv2_extrinsics.txt'\n",
    "\n",
    "#this will pop up OpenGL windows like you'd see during desktop development, rather than try to embed in WebGL into this notebook\n",
    "from klampt import vis\n",
    "vis.init(\"PyQt\")"
   ]
  },
  {
   "cell_type": "markdown",
   "metadata": {},
   "source": [
    "## Visualization"
   ]
  },
  {
   "cell_type": "markdown",
   "metadata": {},
   "source": [
    "### Debug a robot configuration"
   ]
  },
  {
   "cell_type": "code",
   "execution_count": null,
   "metadata": {},
   "outputs": [],
   "source": [
    "from klampt import vis\n",
    "from klampt import WorldModel\n",
    "world = WorldModel()\n",
    "world.loadFile(WORLD_FILE)\n",
    "robot = world.robot(0)\n",
    "qorig = robot.getConfig()\n",
    "robot.randomizeConfig()\n",
    "qtest = robot.getConfig()\n",
    "qtest[0] += 1.0  #move to the right 1m\n",
    "robot.setConfig(qorig)\n",
    "#option 1: overlay configuration (in green) over world\n",
    "vis.debug(qtest,{'color':(0,1,0,0.7)},world=world)\n"
   ]
  },
  {
   "cell_type": "code",
   "execution_count": null,
   "metadata": {},
   "outputs": [],
   "source": [
    "#option 2: set the robot configuration\n",
    "robot.setConfig(qtest)\n",
    "vis.debug(world)"
   ]
  },
  {
   "cell_type": "markdown",
   "metadata": {},
   "source": [
    "### Change the visualization window size and field of view"
   ]
  },
  {
   "cell_type": "code",
   "execution_count": null,
   "metadata": {},
   "outputs": [],
   "source": [
    "from klampt import vis\n",
    "from klampt import WorldModel\n",
    "import math\n",
    "\n",
    "w = WorldModel()\n",
    "w.loadFile(WORLD_FILE)\n",
    "vis.add(\"world\",w)\n",
    "vp = vis.getViewport()\n",
    "#if you've previously saved a viewport to disk, you can load it here\n",
    "#vp.load_file('saved_viewport.txt')\n",
    "#Note: this API changed in klampt 0.10\n",
    "vp.resize(1024,768)\n",
    "vp.setFOV(math.radians(90))\n",
    "vp.controller.tgt = [0,0,0.5]     #center point of the camera's rotation \n",
    "vp.controller.dist = 2.0   #bring the camera closer to the target\n",
    "vp.controller.rot[0] = 0                #roll\n",
    "vp.controller.rot[1] = -math.pi/4       #pitch\n",
    "vp.controller.rot[2] = math.radians(10) #yaw\n",
    "vis.setViewport(vp)\n",
    "vis.loop()\n",
    "\n",
    "#save current viewport to disk -- including all user changes\n",
    "vp = vis.getViewport()\n",
    "vp.save_file('saved_viewport.txt')"
   ]
  },
  {
   "cell_type": "markdown",
   "metadata": {},
   "source": [
    "### Visually edit a robot trajectory"
   ]
  },
  {
   "cell_type": "code",
   "execution_count": null,
   "metadata": {},
   "outputs": [],
   "source": [
    "from klampt import WorldModel\n",
    "from klampt.io import resource\n",
    "from klampt.model.trajectory import RobotTrajectory\n",
    "world = WorldModel()\n",
    "world.loadFile(WORLD_FILE)\n",
    "robot = world.robot(0)\n",
    "traj = RobotTrajectory(robot,[0],[robot.getConfig()])\n",
    "#if you're loading a trajectory from disk, uncomment this\n",
    "#traj = resource.get('some_trajectory.traj') \n",
    "(ok_clicked, traj) = resource.edit('some_trajectory',traj,world=world)\n",
    "#if you're saving the trajectory to disk, uncomment this\n",
    "#if ok_clicked:\n",
    "#   resource.set('some_trajectory.traj',traj)"
   ]
  },
  {
   "cell_type": "markdown",
   "metadata": {},
   "source": [
    "### Overlay Klampt items on a camera image\n",
    "\n",
    "Example gives intrinsics as JSON, extrinsics as a numpy array, and image as a PNG file loaded with OpenCV.  (Not runnable here)"
   ]
  },
  {
   "cell_type": "code",
   "execution_count": null,
   "metadata": {},
   "outputs": [],
   "source": [
    "from klampt import vis, WorldModel\n",
    "from klampt.math import se3\n",
    "#load intrinsics as a JSON file containing 'fx','fy','cx','cy'\n",
    "import json \n",
    "with open('intrinsics.json','r') as f:\n",
    "    intrinsics = json.load(f)\n",
    "#load extrinsics as a numpy array\n",
    "import numpy as np\n",
    "extrinsics = np.loadtxt('extrinsics.npy')\n",
    "#load the camera image\n",
    "import cv2\n",
    "image = cv2.imread('image.png')\n",
    "h = image.shape[0]\n",
    "w = image.shape[1]\n",
    "\n",
    "#set up the Klampt viewport\n",
    "vis.init()\n",
    "vp = vis.getViewport()\n",
    "vp.w = w\n",
    "vp.h = h\n",
    "vp.fx = intrinsics['fx']\n",
    "vp.fy = intrinsics['fy']\n",
    "vp.cx = intrinsics['cx']\n",
    "vp.cy = intrinsics['cy']\n",
    "vp.set_transform(se3.from_ndarray(extrinsics))\n",
    "vis.setViewport()\n",
    "#draw the image\n",
    "image_rgb = image[:,:,::-1]  #convert from BGR to RGB\n",
    "vis.scene().setBackgroundImage(image_rgb)\n",
    "world = WorldModel()\n",
    "world.loadFile(WORLD_FILE)\n",
    "vis.add(world=world)   #add other things to the scene\n",
    "vis.loop()"
   ]
  },
  {
   "cell_type": "markdown",
   "metadata": {},
   "source": [
    "### Draw a point cloud as a collection of spheres"
   ]
  },
  {
   "cell_type": "code",
   "execution_count": null,
   "metadata": {},
   "outputs": [],
   "source": [
    "from klampt import PointCloud,Geometry3D\n",
    "from klampt.model.create import primitives\n",
    "from klampt.model.geometry import point_cloud_colors\n",
    "from klampt import vis\n",
    "\n",
    "vis.clear()\n",
    "g = Geometry3D()\n",
    "if not g.loadFile(POINT_CLOUD_FILE):\n",
    "    raise IOError(\"Unable to load point cloud\")\n",
    "pc = g.getPointCloud()\n",
    "#draw the point cloud as a collection of spheres\n",
    "pts = pc.points\n",
    "colors = point_cloud_colors(pc,format=('r','g','b'))\n",
    "r = 0.001\n",
    "for i in range(len(pts)):\n",
    "    if i % 100 != 0:  #if you have lots of points, you should only draw a subsample\n",
    "        continue\n",
    "    color = colors[i].tolist() if colors is not None else (1,0,0,0.5)\n",
    "    vis.add('point'+str(i),primitives.sphere(r,pts[i],type='GeometricPrimitive'),color=color,hide_label=True)\n",
    "vis.autoFitCamera()\n",
    "vis.loop()"
   ]
  },
  {
   "cell_type": "markdown",
   "metadata": {},
   "source": [
    "## Geometry"
   ]
  },
  {
   "cell_type": "markdown",
   "metadata": {},
   "source": [
    "### Add a sphere terrain to a world"
   ]
  },
  {
   "cell_type": "code",
   "execution_count": null,
   "metadata": {},
   "outputs": [],
   "source": [
    "from klampt import WorldModel\n",
    "from klampt.model.create import primitives\n",
    "world = WorldModel()\n",
    "terrain = world.makeTerrain('ball')\n",
    "#you can also use type='TriangleMesh' to represent the sphere as a triangle mesh \n",
    "terrain.geometry().set(primitives.sphere(radius=0.5,center=(1.5,0,0.5),type='GeometricPrimitive'))"
   ]
  },
  {
   "cell_type": "code",
   "execution_count": null,
   "metadata": {},
   "outputs": [],
   "source": [
    "# visualize the above\n",
    "from klampt import vis\n",
    "terrain.appearance().setColor(0.75,0.25,0.25,1)\n",
    "vis.add(\"world\",world)\n",
    "vis.loop()"
   ]
  },
  {
   "cell_type": "markdown",
   "metadata": {},
   "source": [
    "### Add a sphere rigid object to a world"
   ]
  },
  {
   "cell_type": "code",
   "execution_count": null,
   "metadata": {},
   "outputs": [],
   "source": [
    "from klampt import WorldModel\n",
    "from klampt.model.create import primitives\n",
    "from klampt.math import so3\n",
    "world = WorldModel()\n",
    "obj = world.makeRigidObject('ball')\n",
    "#you can also use type='TriangleMesh' to represent the sphere as a triangle mesh \n",
    "obj.geometry().set(primitives.sphere(radius=0.5,type='GeometricPrimitive'))\n",
    "obj.setTransform(so3.identity,(1.5,0,0.5))"
   ]
  },
  {
   "cell_type": "code",
   "execution_count": null,
   "metadata": {},
   "outputs": [],
   "source": [
    "# visualize the above\n",
    "from klampt import vis\n",
    "terrain.appearance().setColor(0.75,0.25,0.25,1)\n",
    "vis.add(\"world\",world)\n",
    "vis.loop()"
   ]
  },
  {
   "cell_type": "markdown",
   "metadata": {},
   "source": [
    "\n",
    "### Sample uniformly spaced points on the surface of a mesh or other geometry\n"
   ]
  },
  {
   "cell_type": "code",
   "execution_count": null,
   "metadata": {},
   "outputs": [],
   "source": [
    "from klampt import Geometry3D\n",
    "mesh = Geometry3D()\n",
    "mesh.loadFile(TRIMESH_FILE)\n",
    "resolution = 0.01  #how far you want the points to be spaced.  0 samples vertices only\n",
    "pc = mesh.convert('PointCloud',resolution)\n",
    "points = pc.getPointCloud().points   #the output is a numpy array of shape (N,3)\n",
    "#these are in the local frame of the geometry. If you want the world frame, use\n",
    "#from klampt.math import so3\n",
    "#points = np.dot(points,so3.ndarray(mesh.getTransform()[0]).T) + mesh.getTransform()[1]"
   ]
  },
  {
   "cell_type": "code",
   "execution_count": null,
   "metadata": {},
   "outputs": [],
   "source": [
    "#visualize the point cloud\n",
    "from klampt.vis.colorize import colorize\n",
    "colorize(pc,'z')\n",
    "vis.debug(pc)"
   ]
  },
  {
   "cell_type": "markdown",
   "metadata": {},
   "source": [
    "### Sample at random from the surface of a mesh or other geometry\n"
   ]
  },
  {
   "cell_type": "code",
   "execution_count": null,
   "metadata": {},
   "outputs": [],
   "source": [
    "from klampt import Geometry3D\n",
    "from klampt.model.geometry import sample_surface\n",
    "mesh = Geometry3D()\n",
    "mesh.loadFile(TRIMESH_FILE)\n",
    "N = 1000   #the number of points to sample\n",
    "points = sample_surface(mesh,N,want_normals=False)   #the output is a numpy array of shape (N,3)\n",
    "#these are in the local frame of the geometry. If you want the world frame, use\n",
    "#from klampt.math import so3\n",
    "#points = np.dot(points,so3.ndarray(mesh.getTransform()[0]).T) + mesh.getTransform()[1]"
   ]
  },
  {
   "cell_type": "code",
   "execution_count": null,
   "metadata": {},
   "outputs": [],
   "source": [
    "#visually debug the sampled points\n",
    "from klampt.vis.colorize import colorize\n",
    "from klampt.io.numpy_convert import from_numpy\n",
    "import numpy as np\n",
    "\n",
    "pc = from_numpy(np.array(points),'PointCloud')\n",
    "colorize(pc,'z')\n",
    "vis.debug(pc)"
   ]
  },
  {
   "cell_type": "markdown",
   "metadata": {},
   "source": [
    "### Create a depth map from an RGB and depth image\n",
    "Requires OpenCV to load images from file."
   ]
  },
  {
   "cell_type": "code",
   "execution_count": null,
   "metadata": {},
   "outputs": [],
   "source": [
    "import cv2\n",
    "import numpy as np\n",
    "from klampt.math import se3,so3\n",
    "from klampt import Heightmap,Geometry3D\n",
    "from klampt import vis\n",
    "\n",
    "hm = Heightmap()\n",
    "xfov = 1.0166577814521098\n",
    "yfov = 0.7916406885147462\n",
    "height_range = [0.0,4.0]\n",
    "\n",
    "img = cv2.imread(DEPTH_FILE,cv2.IMREAD_UNCHANGED)  #16-bit depth file\n",
    "print(\"DEPTH IMAGE SIZE\",img.shape,\"DTYPE\",img.dtype,\"DEPTH RANGE\",np.min(img),np.max(img))\n",
    "hm.setHeightImage(img, height_range[1]/(65535.0))\n",
    "assert not hm.isPerspective()\n",
    "img = cv2.imread(RGB_FILE)\n",
    "print(\"RGB IMAGE SIZE\",img.shape,\"DTYPE\",img.dtype)\n",
    "hm.setColorImage(img)\n",
    "\n",
    "hm.setFOV(xfov,yfov)\n",
    "assert hm.isPerspective()\n",
    "\n",
    "extrinsics = np.loadtxt(EXTRINSICS_FILE)\n",
    "pose = so3.from_ndarray(extrinsics[:3,:3]),extrinsics[:3,3]\n",
    "#add an extra y-z flip\n",
    "pose = se3.mul((so3.rotation([1,0,0],-np.pi/2),[0]*3),pose)\n",
    "\n",
    "geom = Geometry3D()\n",
    "geom.setHeightmap(hm)\n",
    "geom.setCurrentTransform(*pose)\n",
    "print(pose)\n",
    "print(\"Viewport dimensions\",hm.viewport.x,hm.viewport.y,hm.viewport.w,hm.viewport.h)\n",
    "print(\"Viewport intrinsics\",hm.viewport.fx,hm.viewport.fy,hm.viewport.cx,hm.viewport.cy)\n",
    "print(\"BB\",geom.getBB())\n",
    "vis.add('origin',se3.identity())\n",
    "vis.add('pose',pose)\n",
    "vis.add('hm',geom)\n",
    "#vis.show()\n"
   ]
  },
  {
   "cell_type": "code",
   "execution_count": null,
   "metadata": {},
   "outputs": [],
   "source": [
    "#To view as a PointCloud and save as a PCD\n",
    "pc = geom.convert('PointCloud')\n",
    "vis.debug(pc)\n",
    "if pc.saveFile('test.pcd'):\n",
    "    print(\"Saved file to test.pcd\")\n",
    "else:\n",
    "    print(\"Error saving to test.pcd\")"
   ]
  },
  {
   "cell_type": "markdown",
   "metadata": {},
   "source": [
    "## Robot Models"
   ]
  },
  {
   "cell_type": "markdown",
   "metadata": {},
   "source": [
    "### Showing a robot's reachable workspace\n",
    "\n",
    "See ``Klampt-examples/Python3/demos/model/workspace_test.py``"
   ]
  },
  {
   "cell_type": "markdown",
   "metadata": {},
   "source": [
    "### Converting all geometries to implicit surfaces"
   ]
  },
  {
   "cell_type": "code",
   "execution_count": null,
   "metadata": {},
   "outputs": [],
   "source": [
    "from klampt import WorldModel\n",
    "\n",
    "world = WorldModel()\n",
    "world.loadFile(WORLD_FILE)\n",
    "robot = world.robot(0)\n",
    "for l in robot.links:\n",
    "    g = l.geometry()\n",
    "    if g.empty():\n",
    "        continue\n",
    "    g.set(g.convert('ImplicitSurface',0.01))  #second argument is a resolution parameter. Try 0.005 for better conversion quality\n",
    "vis.debug(world)"
   ]
  },
  {
   "cell_type": "markdown",
   "metadata": {},
   "source": [
    "### Creating a floating rigid body robot from a geometry"
   ]
  },
  {
   "cell_type": "code",
   "execution_count": null,
   "metadata": {},
   "outputs": [],
   "source": [
    "from klampt import WorldModel\n",
    "from klampt.model.create import moving_base_robot\n",
    "from klampt import vis\n",
    "\n",
    "world = WorldModel()\n",
    "moving_base_robot.make(TRIMESH_FILE,world)\n",
    "vis.add('world',world)\n",
    "vis.edit(('world',world.robot(0).name))\n",
    "vis.loop()"
   ]
  },
  {
   "cell_type": "markdown",
   "metadata": {},
   "source": [
    "## Inverse Kinematics"
   ]
  },
  {
   "cell_type": "markdown",
   "metadata": {},
   "source": [
    "### Solve for collision-free IK\n"
   ]
  },
  {
   "cell_type": "code",
   "execution_count": null,
   "metadata": {},
   "outputs": [],
   "source": [
    "from klampt import WorldModel\n",
    "from klampt.model.collide import WorldCollider\n",
    "from klampt.model import ik\n",
    "from klampt.math import vectorops,so3\n",
    "\n",
    "world = WorldModel()\n",
    "world.loadFile(WORLD_FILE_MANIPULATOR)  #point this to the robot file\n",
    "robot = world.robot(0)\n",
    "\n",
    "#set up the desired end effector transform\n",
    "Rlink = so3.from_rpy([0,0,0])    #roll pitch yaw\n",
    "pworld = [1,0,0.3]\n",
    "#local point on the robot that you'd like to match to t\n",
    "plocal = [0,0,0]\n",
    "#set up IKObjective -- arguments (R,t) are the desired transform of the\n",
    "#link, and we want R*plocal+t=pworld.  So, we set t=pworld - R*plocal\n",
    "goal = ik.objective(robot.link(robot.numLinks()-1),R=Rlink,t=vectorops.sub(pworld,so3.apply(Rlink,plocal))) \n",
    "\n",
    "#set up feasibility tests.  Joint limits are automatically respected\n",
    "collider = WorldCollider(world)\n",
    "#collider.ignoreCollision(...)  #can be used to ignore collision checking between objects\n",
    "def checkCollisions():\n",
    "    #robot model will be set to the currently considered configuration\n",
    "    for i in collider.robotTerrainCollisions(robot):\n",
    "        return False\n",
    "    for i in collider.robotObjectCollisions(robot):\n",
    "        return False\n",
    "    for i in collider.robotSelfCollisions(robot):\n",
    "        return False\n",
    "    return True"
   ]
  },
  {
   "cell_type": "code",
   "execution_count": null,
   "metadata": {},
   "outputs": [],
   "source": [
    "# If you need to check whether your IK goal is reasonable, you can debug it\n",
    "vis.debug(goal,world=world)"
   ]
  },
  {
   "cell_type": "code",
   "execution_count": null,
   "metadata": {},
   "outputs": [],
   "source": [
    "\n",
    "#you may set up an initial guess here.  solve_global will use this as the guess for the first solve\n",
    "robot.setConfig([0]*robot.numLinks())\n",
    "#solve the IK problem\n",
    "res = ik.solve_global(goal,iters=100,tol=1e-3,feasibilityCheck=checkCollisions)\n",
    "if res:\n",
    "    print(\"Collision-free IK succeeded!\")\n",
    "else:\n",
    "    print(\"Collision-free IK failed\")\n",
    "vis.debug(goal,world=world)"
   ]
  },
  {
   "cell_type": "markdown",
   "metadata": {},
   "source": [
    "## Sensors"
   ]
  },
  {
   "cell_type": "markdown",
   "metadata": {},
   "source": [
    "### Create a camera and take snapshots"
   ]
  },
  {
   "cell_type": "code",
   "execution_count": null,
   "metadata": {},
   "outputs": [],
   "source": [
    "from klampt import WorldModel\n",
    "from klampt.model import sensing\n",
    "from klampt.math import se3,so3\n",
    "import math\n",
    "world = WorldModel()\n",
    "world.loadFile(WORLD_FILE) #load a world / robot file\n",
    "robot = world.robot(0)\n",
    "cam = robot.addSensor(\"my_world_camera\",\"CameraSensor\")\n",
    "tcamera = [0,-2,1.0]\n",
    "Rcamera = so3.from_rpy([math.pi/2,math.pi,math.pi]) #z points forward, x points right, y points down\n",
    "xform = Rcamera,tcamera   \n",
    "cam_link = None   #can also try, e.g., robot.link(robot.numLinks()-1)\n",
    "sensing.set_sensor_xform(cam,xform,cam_link)\n",
    "cam.setSetting('xres',str(640))\n",
    "cam.setSetting('yres',str(480))\n",
    "cam.setSetting('xfov',str(math.radians(75.0)))\n",
    "cam.setSetting('yfov',str(math.radians(60.0)))\n",
    "cam.setSetting('zmin',str(0.1))\n",
    "cam.setSetting('zmax',str(10.0))\n",
    "cam.setSetting('rgb',str(1))\n",
    "cam.setSetting('depth',str(1))  #turn this to 0 to turn off depth sensing\n",
    "\n",
    "#Note that camera simulation will be ugly until an OpenGL window has been created.\n",
    "# cam.kinematicSimulate(world,1.0/30.0)  #< this won't work well.\n",
    "# rgb, depth = sensing.camera_to_images(cam)\n",
    "\n",
    "#Workaround to use Klampt's vis to take pictures using OpenGL rendering\n",
    "from klampt import vis\n",
    "import time\n",
    "rgb, depth = None, None\n",
    "def take_snapshot():\n",
    "    global rgb,depth\n",
    "    if vis.shown():   #opengl will have been initialized\n",
    "        vis.lock()\n",
    "        cam.kinematicSimulate(world,1.0/30.0)\n",
    "        vis.unlock()\n",
    "        rgb, depth = sensing.camera_to_images(cam)\n",
    "        vis.show(False)  #kill once the image is taken\n",
    "    else:\n",
    "        print(\"Waiting for OpenGL to initialize\")\n",
    "        time.sleep(0.01)\n",
    "        vis.threadCall(take_snapshot)\n",
    "\n",
    "vis.add(\"world\",world)\n",
    "vis.add(\"Tcamera\",xform)\n",
    "vis.show()\n",
    "vis.threadCall(take_snapshot)\n",
    "while vis.shown():\n",
    "    time.sleep(0.01)\n",
    "\n",
    "#save images\n",
    "if rgb is not None:\n",
    "    from PIL import Image\n",
    "    import numpy as np\n",
    "    Image.fromarray(rgb).save('rgb.png')\n",
    "    print(\"Depth range\",np.min(depth),np.max(depth))\n",
    "    dmax = 4.0\n",
    "    depth8 = np.minimum(depth*256/dmax,255).astype(np.uint8)\n",
    "    print(\"Depth image range\",np.min(depth8),np.max(depth8))\n",
    "    Image.fromarray(depth8).save('depth.png')\n",
    "\n"
   ]
  }
 ],
 "metadata": {
  "kernelspec": {
   "display_name": "Python 3 (ipykernel)",
   "language": "python",
   "name": "python3"
  },
  "language_info": {
   "codemirror_mode": {
    "name": "ipython",
    "version": 3
   },
   "file_extension": ".py",
   "mimetype": "text/x-python",
   "name": "python",
   "nbconvert_exporter": "python",
   "pygments_lexer": "ipython3",
   "version": "3.10.12"
  }
 },
 "nbformat": 4,
 "nbformat_minor": 4
}
